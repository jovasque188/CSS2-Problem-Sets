{
  "nbformat": 4,
  "nbformat_minor": 0,
  "metadata": {
    "colab": {
      "name": "Vasquez_Jade_Problem_Set_3.ipynb",
      "provenance": [],
      "collapsed_sections": [],
      "authorship_tag": "ABX9TyMZvRFSOIjRXGm+CUm1VwVP",
      "include_colab_link": true
    },
    "kernelspec": {
      "name": "python3",
      "display_name": "Python 3"
    },
    "language_info": {
      "name": "python"
    }
  },
  "cells": [
    {
      "cell_type": "markdown",
      "metadata": {
        "id": "view-in-github",
        "colab_type": "text"
      },
      "source": [
        "<a href=\"https://colab.research.google.com/github/jovasque188/CSS2-Problem-Sets/blob/main/Vasquez_Jade_Problem_Set_3.ipynb\" target=\"_parent\"><img src=\"https://colab.research.google.com/assets/colab-badge.svg\" alt=\"Open In Colab\"/></a>"
      ]
    },
    {
      "cell_type": "markdown",
      "metadata": {
        "id": "w3cndV-QriOP"
      },
      "source": [
        "# Block 1"
      ]
    },
    {
      "cell_type": "code",
      "metadata": {
        "id": "N1d0yvoPrj0j"
      },
      "source": [
        "# Import libraries \n",
        "import numpy as np \n",
        "import pandas as pd "
      ],
      "execution_count": null,
      "outputs": []
    },
    {
      "cell_type": "markdown",
      "metadata": {
        "id": "fwFHVoSbsJXv"
      },
      "source": [
        "# Block 2"
      ]
    },
    {
      "cell_type": "code",
      "metadata": {
        "id": "NKVtRk3nrp8Q"
      },
      "source": [
        "# Webscraping the data \n",
        "url = 'https://en.wikipedia.org/wiki/MonsterVerse'\n",
        "url_data = pd.read_html(url)\n",
        "data = url_data[3]"
      ],
      "execution_count": null,
      "outputs": []
    },
    {
      "cell_type": "markdown",
      "metadata": {
        "id": "LKT-7hCZwY4v"
      },
      "source": [
        "# Block 3"
      ]
    },
    {
      "cell_type": "code",
      "metadata": {
        "id": "1SPSeUGat_gD"
      },
      "source": [
        "# 3b. \n",
        "# Change the column names\n",
        "data.columns = ['Character', 'Godzilla', 'Kong:Skull Island', 'Godzilla:King of the Monsters', 'Godzilla vs. Kong']\n",
        "\n",
        "# 3a. \n",
        "# Make the index the different characters\n",
        "data.set_index('Character', inplace=True)\n",
        "\n",
        "# 3b. \n",
        "# Remove the row that has all the dupliates \n",
        "data = data.drop('Humans')"
      ],
      "execution_count": null,
      "outputs": []
    },
    {
      "cell_type": "markdown",
      "metadata": {
        "id": "FU5cjINf9nXr"
      },
      "source": [
        "# Block 4"
      ]
    },
    {
      "cell_type": "code",
      "metadata": {
        "id": "33GjkJ5t5PMV"
      },
      "source": [
        "# Save file as a .csv with delimiter being tabs \n",
        "data.to_csv('Problem_Set_3_Data.csv', sep = '\\t')"
      ],
      "execution_count": null,
      "outputs": []
    },
    {
      "cell_type": "markdown",
      "metadata": {
        "id": "5Los4d3OICC_"
      },
      "source": [
        "# Example Output"
      ]
    },
    {
      "cell_type": "code",
      "metadata": {
        "colab": {
          "base_uri": "https://localhost:8080/",
          "height": 297
        },
        "id": "6bGtTqEp-f-b",
        "outputId": "be8fd9c4-7b24-48a8-8fce-941947223ea0"
      },
      "source": [
        "# First few rows of data \n",
        "data.head(7)"
      ],
      "execution_count": null,
      "outputs": [
        {
          "output_type": "execute_result",
          "data": {
            "text/html": [
              "<div>\n",
              "<style scoped>\n",
              "    .dataframe tbody tr th:only-of-type {\n",
              "        vertical-align: middle;\n",
              "    }\n",
              "\n",
              "    .dataframe tbody tr th {\n",
              "        vertical-align: top;\n",
              "    }\n",
              "\n",
              "    .dataframe thead th {\n",
              "        text-align: right;\n",
              "    }\n",
              "</style>\n",
              "<table border=\"1\" class=\"dataframe\">\n",
              "  <thead>\n",
              "    <tr style=\"text-align: right;\">\n",
              "      <th></th>\n",
              "      <th>Godzilla</th>\n",
              "      <th>Kong:Skull Island</th>\n",
              "      <th>Godzilla:King of the Monsters</th>\n",
              "      <th>Godzilla vs. Kong</th>\n",
              "    </tr>\n",
              "    <tr>\n",
              "      <th>Character</th>\n",
              "      <th></th>\n",
              "      <th></th>\n",
              "      <th></th>\n",
              "      <th></th>\n",
              "    </tr>\n",
              "  </thead>\n",
              "  <tbody>\n",
              "    <tr>\n",
              "      <th>Godzilla</th>\n",
              "      <td>T.J. StormS</td>\n",
              "      <td>Pictured with archive audio</td>\n",
              "      <td>T.J. StormS</td>\n",
              "      <td>CGI</td>\n",
              "    </tr>\n",
              "    <tr>\n",
              "      <th>MUTO</th>\n",
              "      <td>Matt CrossSLee RossS</td>\n",
              "      <td>NaN</td>\n",
              "      <td>CGI</td>\n",
              "      <td>Archive footage</td>\n",
              "    </tr>\n",
              "    <tr>\n",
              "      <th>King Kong</th>\n",
              "      <td>NaN</td>\n",
              "      <td>Terry NotarySToby KebbellS</td>\n",
              "      <td>Archive footage</td>\n",
              "      <td>Eric PeteyS[57]</td>\n",
              "    </tr>\n",
              "    <tr>\n",
              "      <th>King Ghidorah</th>\n",
              "      <td>NaN</td>\n",
              "      <td>Pictured</td>\n",
              "      <td>Jason LilesSAlan MaxsonSRichard DortonS</td>\n",
              "      <td>Archive footage</td>\n",
              "    </tr>\n",
              "    <tr>\n",
              "      <th>Rodan</th>\n",
              "      <td>NaN</td>\n",
              "      <td>Pictured</td>\n",
              "      <td>Jason LilesS</td>\n",
              "      <td>Archive footage</td>\n",
              "    </tr>\n",
              "    <tr>\n",
              "      <th>Ishiro Serizawa</th>\n",
              "      <td>Ken Watanabe</td>\n",
              "      <td>NaN</td>\n",
              "      <td>Ken Watanabe</td>\n",
              "      <td>NaN</td>\n",
              "    </tr>\n",
              "    <tr>\n",
              "      <th>Vivienne Graham</th>\n",
              "      <td>Sally Hawkins</td>\n",
              "      <td>NaN</td>\n",
              "      <td>Sally Hawkins</td>\n",
              "      <td>NaN</td>\n",
              "    </tr>\n",
              "  </tbody>\n",
              "</table>\n",
              "</div>"
            ],
            "text/plain": [
              "                             Godzilla  ... Godzilla vs. Kong\n",
              "Character                              ...                  \n",
              "Godzilla                  T.J. StormS  ...               CGI\n",
              "MUTO             Matt CrossSLee RossS  ...   Archive footage\n",
              "King Kong                         NaN  ...   Eric PeteyS[57]\n",
              "King Ghidorah                     NaN  ...   Archive footage\n",
              "Rodan                             NaN  ...   Archive footage\n",
              "Ishiro Serizawa          Ken Watanabe  ...               NaN\n",
              "Vivienne Graham         Sally Hawkins  ...               NaN\n",
              "\n",
              "[7 rows x 4 columns]"
            ]
          },
          "metadata": {
            "tags": []
          },
          "execution_count": 5
        }
      ]
    }
  ]
}