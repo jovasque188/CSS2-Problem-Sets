{
  "nbformat": 4,
  "nbformat_minor": 0,
  "metadata": {
    "colab": {
      "name": "Vasquez_Jade_Problem_Set_4.ipynb",
      "provenance": [],
      "collapsed_sections": [],
      "authorship_tag": "ABX9TyNHSPRcIm68SuhZcb+CXu/c",
      "include_colab_link": true
    },
    "kernelspec": {
      "name": "python3",
      "display_name": "Python 3"
    },
    "language_info": {
      "name": "python"
    }
  },
  "cells": [
    {
      "cell_type": "markdown",
      "metadata": {
        "id": "view-in-github",
        "colab_type": "text"
      },
      "source": [
        "<a href=\"https://colab.research.google.com/github/jovasque188/CSS2-Problem-Sets/blob/main/Vasquez_Jade_Problem_Set_4.ipynb\" target=\"_parent\"><img src=\"https://colab.research.google.com/assets/colab-badge.svg\" alt=\"Open In Colab\"/></a>"
      ]
    },
    {
      "cell_type": "markdown",
      "metadata": {
        "id": "TG2fbsLmUqV-"
      },
      "source": [
        "# Block 1"
      ]
    },
    {
      "cell_type": "code",
      "metadata": {
        "id": "8hrSLoexUr0m"
      },
      "source": [
        "# Import libraries \n",
        "import numpy as np \n",
        "import pandas as pd \n",
        "import requests \n",
        "from bs4 import BeautifulSoup"
      ],
      "execution_count": null,
      "outputs": []
    },
    {
      "cell_type": "markdown",
      "metadata": {
        "id": "wjrJTC02U7tk"
      },
      "source": [
        "# Block 2"
      ]
    },
    {
      "cell_type": "code",
      "metadata": {
        "id": "-Ao_WARkUyse"
      },
      "source": [
        "# Create a function that webscrapes weather.com\n",
        "def weather_reader(zip):\n",
        "\n",
        "  # If input zip is valid, find city,state,temp,zip by running code below\n",
        "  try:\n",
        "    \n",
        "    # find the weather website for a specific zip code \n",
        "    data = requests.get('https://weather.com/weather/today/l/' + str(zip) + ':4:US')\n",
        "    soup = BeautifulSoup(data.content,'html.parser')\n",
        "    \n",
        "    # find the city and state \n",
        "    location_name = soup.find_all(class_ = 'CurrentConditions--location--1Ayv3')\n",
        "    real_location = location_name[0].text\n",
        "    real_location = real_location.replace(' Weather','') \n",
        "    \n",
        "    # find the weather in Fahrenheit\n",
        "    weather = soup.find_all(class_ = 'CurrentConditions--tempValue--3KcTQ')\n",
        "    temp = weather[0].text\n",
        "    \n",
        "    # Return the city, state, temperature, and zipcode\n",
        "    return real_location, temp, zip\n",
        "    \n",
        "  # If input zip is not valid, return print statement\n",
        "  except: \n",
        "    print('Not a valid zip code')"
      ],
      "execution_count": null,
      "outputs": []
    },
    {
      "cell_type": "markdown",
      "metadata": {
        "id": "bY8jhHGhU9Dt"
      },
      "source": [
        "# Block 3"
      ]
    },
    {
      "cell_type": "code",
      "metadata": {
        "colab": {
          "base_uri": "https://localhost:8080/"
        },
        "id": "FRTzEZ_gU9sk",
        "outputId": "00e47fc1-deb0-4856-bdc4-25f3f6ad2189"
      },
      "source": [
        "# Example of function by passing a zipcode\n",
        "weather_reader(92122)"
      ],
      "execution_count": null,
      "outputs": [
        {
          "output_type": "execute_result",
          "data": {
            "text/plain": [
              "('San Diego, CA', '59°', 92122)"
            ]
          },
          "metadata": {
            "tags": []
          },
          "execution_count": 3
        }
      ]
    },
    {
      "cell_type": "code",
      "metadata": {
        "id": "Hi5lEASsIAEY"
      },
      "source": [
        ""
      ],
      "execution_count": null,
      "outputs": []
    }
  ]
}