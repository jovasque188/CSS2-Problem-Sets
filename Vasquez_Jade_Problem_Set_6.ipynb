{
  "nbformat": 4,
  "nbformat_minor": 0,
  "metadata": {
    "colab": {
      "name": "Vasquez_Jade_Problem_Set_6.ipynb",
      "provenance": [],
      "collapsed_sections": [],
      "authorship_tag": "ABX9TyOELLxeRGk1+PIS21vSBdnQ",
      "include_colab_link": true
    },
    "kernelspec": {
      "name": "python3",
      "display_name": "Python 3"
    },
    "language_info": {
      "name": "python"
    }
  },
  "cells": [
    {
      "cell_type": "markdown",
      "metadata": {
        "id": "view-in-github",
        "colab_type": "text"
      },
      "source": [
        "<a href=\"https://colab.research.google.com/github/jovasque188/CSS2-Problem-Sets/blob/main/Vasquez_Jade_Problem_Set_6.ipynb\" target=\"_parent\"><img src=\"https://colab.research.google.com/assets/colab-badge.svg\" alt=\"Open In Colab\"/></a>"
      ]
    },
    {
      "cell_type": "markdown",
      "metadata": {
        "id": "dmChj7HxKkMA"
      },
      "source": [
        "# Block 1"
      ]
    },
    {
      "cell_type": "code",
      "metadata": {
        "id": "0WTQity1Klha"
      },
      "source": [
        "# load the specified dataset\n",
        "import pandas as pd\n",
        "from sklearn.datasets import load_diabetes\n",
        "diabetes = load_diabetes()\n",
        "X = pd.DataFrame(diabetes.data,columns=diabetes.feature_names)\n",
        "y = diabetes.target"
      ],
      "execution_count": null,
      "outputs": []
    },
    {
      "cell_type": "markdown",
      "metadata": {
        "id": "A6FFPCmCKrei"
      },
      "source": [
        "# Block 2"
      ]
    },
    {
      "cell_type": "code",
      "metadata": {
        "id": "COF-BYsSKq5n"
      },
      "source": [
        "# Import other libraries\n",
        "import numpy as np \n",
        "import seaborn as sns\n",
        "import matplotlib.pyplot as plt\n",
        "from numpy.linalg import inv\n",
        "from sklearn.model_selection import train_test_split\n",
        "from sklearn.linear_model import LinearRegression"
      ],
      "execution_count": null,
      "outputs": []
    },
    {
      "cell_type": "markdown",
      "metadata": {
        "id": "Jjf1eoGXLUUz"
      },
      "source": [
        "# Block 3"
      ]
    },
    {
      "cell_type": "code",
      "metadata": {
        "id": "HYpiMtYDLTwX"
      },
      "source": [
        "# Create a function \n",
        "\n",
        "# A. Take X and y as input\n",
        "def model_data(X,y):\n",
        "  # B. Split the X and y into train and test\n",
        "  X_train, X_test, y_train, y_test = train_test_split(X,y,random_state=1)\n",
        "  # C. Fit a linear regression model to the training X and training y data\n",
        "  model = LinearRegression(fit_intercept=True)\n",
        "  model.fit(X_train,y_train)\n",
        "  # D. Get predicted y values from X test\n",
        "  y_model = model.predict(X_test)\n",
        "\n",
        "  # Return the model fit \n",
        "  r_squared_values=[]\n",
        "  r_squared_values.append((model.score(X_train,y_train)))\n",
        "  r_squared_values.append((model.score(X_test,y_test)))\n",
        "\n",
        "  return r_squared_values "
      ],
      "execution_count": null,
      "outputs": []
    },
    {
      "cell_type": "markdown",
      "metadata": {
        "id": "-tHxy2mrZ_pU"
      },
      "source": [
        "# Block 4"
      ]
    },
    {
      "cell_type": "code",
      "metadata": {
        "colab": {
          "base_uri": "https://localhost:8080/"
        },
        "id": "S73jhISEaBE8",
        "outputId": "786da194-2abc-468f-d1d9-20bdea860c9f"
      },
      "source": [
        "# Show that the function works \n",
        "r_sq = model_data(X[['s6']],X['age'])\n",
        "print('training: ',  r_sq[0])\n",
        "print('testing: ',  r_sq[1])"
      ],
      "execution_count": null,
      "outputs": [
        {
          "output_type": "stream",
          "text": [
            "training:  0.07708368099886165\n",
            "testing:  0.12711364484251553\n"
          ],
          "name": "stdout"
        }
      ]
    },
    {
      "cell_type": "markdown",
      "metadata": {
        "id": "IrY4AlWtaBkJ"
      },
      "source": [
        "# Block 5"
      ]
    },
    {
      "cell_type": "code",
      "metadata": {
        "colab": {
          "base_uri": "https://localhost:8080/"
        },
        "id": "GMEyZp0G0C9S",
        "outputId": "c0f2f60c-e2a2-492c-eb18-c425acf4b46b"
      },
      "source": [
        "# Use function to find the best single feature in X that predicts y when y=age\n",
        "initial = [-1,-1]\n",
        "for i in X.columns: \n",
        "  if i != 'age': \n",
        "    val = model_data(X[[i]],X['age']) \n",
        "    if val[1] > initial[1]:\n",
        "      initial[1] = val[1]\n",
        "  print(i, initial[1])"
      ],
      "execution_count": null,
      "outputs": [
        {
          "output_type": "stream",
          "text": [
            "age -1\n",
            "sex 0.029547321674338933\n",
            "bmi 0.029547321674338933\n",
            "bp 0.097930686118197\n",
            "s1 0.097930686118197\n",
            "s2 0.097930686118197\n",
            "s3 0.097930686118197\n",
            "s4 0.097930686118197\n",
            "s5 0.097930686118197\n",
            "s6 0.12711364484251553\n"
          ],
          "name": "stdout"
        }
      ]
    },
    {
      "cell_type": "markdown",
      "metadata": {
        "id": "WCO2HRsTaC6-"
      },
      "source": [
        "# Block 6"
      ]
    },
    {
      "cell_type": "code",
      "metadata": {
        "colab": {
          "base_uri": "https://localhost:8080/",
          "height": 421
        },
        "id": "x8gRNzBq_C_7",
        "outputId": "78f8429a-b61b-44ac-85d6-4c976903557f"
      },
      "source": [
        "# Make a figure that has two subplots \n",
        "X_train, X_test, y_train, y_test = train_test_split(X['age'],X['s6'],random_state=1)\n",
        "\n",
        "fig, (ax1,ax2) = plt.subplots(1,2, figsize=(16,6))\n",
        "\n",
        "# Subplot with training data\n",
        "ax1.set_title('Training Data')\n",
        "sns.scatterplot(x=X['age'], y=X['s6'], data=X_train, ax=ax1)\n",
        "\n",
        "# Subplot with testing data\n",
        "ax2.set_title('Testing Data')\n",
        "sns.scatterplot(x=X['age'], y=X['s6'], data=X_test, ax=ax2)"
      ],
      "execution_count": null,
      "outputs": [
        {
          "output_type": "execute_result",
          "data": {
            "text/plain": [
              "<matplotlib.axes._subplots.AxesSubplot at 0x7f059a4090d0>"
            ]
          },
          "metadata": {
            "tags": []
          },
          "execution_count": 6
        },
        {
          "output_type": "display_data",
          "data": {
            "image/png": "[encoded data removed]",
            "text/plain": [
              "<Figure size 1152x432 with 2 Axes>"
            ]
          },
          "metadata": {
            "tags": [],
            "needs_background": "light"
          }
        }
      ]
    },
    {
      "cell_type": "code",
      "metadata": {
        "id": "3HO2oXPAIMyW"
      },
      "source": [
        ""
      ],
      "execution_count": null,
      "outputs": []
    }
  ]
}