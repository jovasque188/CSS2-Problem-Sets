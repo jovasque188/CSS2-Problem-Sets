{
  "nbformat": 4,
  "nbformat_minor": 0,
  "metadata": {
    "colab": {
      "name": "Vasquez_Jade_Problem_Set_8.ipynb",
      "provenance": [],
      "collapsed_sections": [],
      "authorship_tag": "ABX9TyOoksEjhGCnGM8px65z3ePI",
      "include_colab_link": true
    },
    "kernelspec": {
      "name": "python3",
      "display_name": "Python 3"
    },
    "language_info": {
      "name": "python"
    }
  },
  "cells": [
    {
      "cell_type": "markdown",
      "metadata": {
        "id": "view-in-github",
        "colab_type": "text"
      },
      "source": [
        "<a href=\"https://colab.research.google.com/github/jovasque188/CSS2-Problem-Sets/blob/main/Vasquez_Jade_Problem_Set_8.ipynb\" target=\"_parent\"><img src=\"https://colab.research.google.com/assets/colab-badge.svg\" alt=\"Open In Colab\"/></a>"
      ]
    },
    {
      "cell_type": "markdown",
      "metadata": {
        "id": "vQivBT9s46ph"
      },
      "source": [
        "# Block 1"
      ]
    },
    {
      "cell_type": "code",
      "metadata": {
        "id": "rm3RYmde48hu"
      },
      "source": [
        "# import libararies \n",
        "import seaborn as sns\n",
        "import matplotlib.pyplot as plt\n",
        "import numpy as np\n",
        "import pandas as pd\n",
        "from sklearn.model_selection import train_test_split\n",
        "from sklearn import tree \n",
        "from sklearn import metrics \n",
        "from sklearn.linear_model import LogisticRegression"
      ],
      "execution_count": null,
      "outputs": []
    },
    {
      "cell_type": "markdown",
      "metadata": {
        "id": "XB95PiHC5J-v"
      },
      "source": [
        "# Block 2"
      ]
    },
    {
      "cell_type": "code",
      "metadata": {
        "id": "Z3Xi68Vv5JaE"
      },
      "source": [
        "# Write function  \n",
        "\n",
        "def titanic_func(X, plot, data):\n",
        "  name = X\n",
        "  X = np.array(data[X])\n",
        "  y = data['survived']  \n",
        "\n",
        "  X_train,X_test,y_train,y_test = train_test_split(X.reshape(len(X),1),y,random_state=1)\n",
        "\n",
        "  tree_model = tree.DecisionTreeClassifier(max_depth=1)\n",
        "  tree_model.fit(X_train, y_train)\n",
        "\n",
        "  train_score = tree_model.score(X_train, y_train)\n",
        "  test_score = tree_model.score(X_test, y_test)\n",
        "\n",
        "  train_score - test_score > .1\n",
        "\n",
        "  if plot == True:\n",
        "    fig = sns.boxplot(y,X)\n",
        "    fig.set_xlabel(name)\n",
        "    fig.set_ylabel('Survived')\n",
        "    metrics.roc_curve(y_test,tree_model.predict_proba(X_test)[:,1])"
      ],
      "execution_count": null,
      "outputs": []
    },
    {
      "cell_type": "markdown",
      "metadata": {
        "id": "p8GcbXvlyFPo"
      },
      "source": [
        "# Block 3"
      ]
    },
    {
      "cell_type": "code",
      "metadata": {
        "id": "xnlJy3TohIjs"
      },
      "source": [
        "# Load titanic data\n",
        "data = sns.load_dataset('titanic')"
      ],
      "execution_count": null,
      "outputs": []
    },
    {
      "cell_type": "markdown",
      "metadata": {
        "id": "x07P7wtQyVi2"
      },
      "source": [
        "# Block 4"
      ]
    },
    {
      "cell_type": "code",
      "metadata": {
        "id": "2xo-POguyOR7",
        "colab": {
          "base_uri": "https://localhost:8080/",
          "height": 333
        },
        "outputId": "268002ad-8d57-4b83-8ed1-1471be53d58b"
      },
      "source": [
        "# Use function to run the analysis on fare\n",
        "\n",
        "fare_func = titanic_func('fare', True, data)"
      ],
      "execution_count": null,
      "outputs": [
        {
          "output_type": "stream",
          "text": [
            "/usr/local/lib/python3.7/dist-packages/seaborn/_decorators.py:43: FutureWarning: Pass the following variables as keyword args: x, y. From version 0.12, the only valid positional argument will be `data`, and passing other arguments without an explicit keyword will result in an error or misinterpretation.\n",
            "  FutureWarning\n"
          ],
          "name": "stderr"
        },
        {
          "output_type": "display_data",
          "data": {
            "image/png": "[encoded data removed]",
            "text/plain": [
              "<Figure size 432x288 with 1 Axes>"
            ]
          },
          "metadata": {
            "tags": [],
            "needs_background": "light"
          }
        }
      ]
    },
    {
      "cell_type": "markdown",
      "metadata": {
        "id": "T497XS2Ay9vq"
      },
      "source": [
        "# Block 5"
      ]
    },
    {
      "cell_type": "code",
      "metadata": {
        "id": "QOkIFa0r0LOa",
        "colab": {
          "base_uri": "https://localhost:8080/",
          "height": 333
        },
        "outputId": "8285ce87-06e2-442d-f1b7-39bd802f0dec"
      },
      "source": [
        "# Use the function to run the analysis on pclass\n",
        "\n",
        "pclass_func = titanic_func('pclass', True, data)"
      ],
      "execution_count": null,
      "outputs": [
        {
          "output_type": "stream",
          "text": [
            "/usr/local/lib/python3.7/dist-packages/seaborn/_decorators.py:43: FutureWarning: Pass the following variables as keyword args: x, y. From version 0.12, the only valid positional argument will be `data`, and passing other arguments without an explicit keyword will result in an error or misinterpretation.\n",
            "  FutureWarning\n"
          ],
          "name": "stderr"
        },
        {
          "output_type": "display_data",
          "data": {
            "image/png": "[encoded data removed]",
            "text/plain": [
              "<Figure size 432x288 with 1 Axes>"
            ]
          },
          "metadata": {
            "tags": [],
            "needs_background": "light"
          }
        }
      ]
    },
    {
      "cell_type": "markdown",
      "metadata": {
        "id": "i46gDFjuy_eB"
      },
      "source": [
        "Pat is better off being in a better class."
      ]
    },
    {
      "cell_type": "code",
      "metadata": {
        "id": "eRJ7Nww3y7I2"
      },
      "source": [
        ""
      ],
      "execution_count": null,
      "outputs": []
    }
  ]
}