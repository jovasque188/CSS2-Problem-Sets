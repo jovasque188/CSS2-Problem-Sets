{
  "nbformat": 4,
  "nbformat_minor": 0,
  "metadata": {
    "colab": {
      "name": "Vasquez_Jade_Problem_Set_9.ipynb",
      "provenance": [],
      "authorship_tag": "ABX9TyPwkmIcWgyUZ3kfwZs/HNIm",
      "include_colab_link": true
    },
    "kernelspec": {
      "name": "python3",
      "display_name": "Python 3"
    },
    "language_info": {
      "name": "python"
    }
  },
  "cells": [
    {
      "cell_type": "markdown",
      "metadata": {
        "id": "view-in-github",
        "colab_type": "text"
      },
      "source": [
        "<a href=\"https://colab.research.google.com/github/jovasque188/CSS2-Problem-Sets/blob/main/Vasquez_Jade_Problem_Set_9.ipynb\" target=\"_parent\"><img src=\"https://colab.research.google.com/assets/colab-badge.svg\" alt=\"Open In Colab\"/></a>"
      ]
    },
    {
      "cell_type": "markdown",
      "metadata": {
        "id": "IYPih46QOqsW"
      },
      "source": [
        "# Block 1"
      ]
    },
    {
      "cell_type": "code",
      "metadata": {
        "id": "b08dKCKROsHY"
      },
      "source": [
        "# Import libraries\n",
        "import seaborn as sns \n",
        "import pandas as pd\n",
        "import numpy as np \n",
        "import matplotlib.pyplot as plt\n",
        "from sklearn.linear_model import LinearRegression\n",
        "\n",
        "# Import data \n",
        "data = sns.load_dataset('geyser')"
      ],
      "execution_count": null,
      "outputs": []
    },
    {
      "cell_type": "markdown",
      "metadata": {
        "id": "EHUNJORjPQar"
      },
      "source": [
        "# Block 2"
      ]
    },
    {
      "cell_type": "code",
      "metadata": {
        "colab": {
          "base_uri": "https://localhost:8080/"
        },
        "id": "klXrOQ7v7xmL",
        "outputId": "afa5824e-6353-4867-bacc-d809eaa6ee94"
      },
      "source": [
        "X = data['duration']\n",
        "y = data['waiting']\n",
        "\n",
        "r_squared_training = []\n",
        "r_squared_testing = []\n",
        "\n",
        "for i in range(0,10):\n",
        "  num_training = int(len(data)*0.9)\n",
        "  num_testing = len(data)-num_training\n",
        "  \n",
        "  train_X = X[i:num_training]\n",
        "  train_y = y[i:num_training]\n",
        "  test_X = X[0:i]\n",
        "  test_X = test_X.append(X[num_training:])\n",
        "  test_y = y[0:i]\n",
        "  test_y = test_y.append(y[num_training:])\n",
        "\n",
        "  model = LinearRegression(fit_intercept = True)\n",
        "\n",
        "\n",
        "  train_X = np.array(train_X).reshape(-1, 1) \n",
        "  train_y = np.array(train_y).reshape(-1, 1)\n",
        "  test_X = np.array(test_X).reshape(-1, 1)\n",
        "  test_y = np.array(test_y).reshape(-1, 1)\n",
        "\n",
        "\n",
        "  model.fit(train_X, train_y)\n",
        "\n",
        "  y_model = model.predict(test_X)\n",
        "\n",
        "  r_squared_values=[]\n",
        "  r_squared_values.append((model.score(train_X, train_y)))\n",
        "  r_squared_values.append((model.score(test_X, test_y)))\n",
        "\n",
        "  r_squared_training.append((model.score(train_X, train_y)))\n",
        "  r_squared_testing.append((model.score(test_X, test_y)))\n",
        "\n",
        "  print(r_squared_values)"
      ],
      "execution_count": null,
      "outputs": [
        {
          "output_type": "stream",
          "text": [
            "[0.8143804665354335, 0.7848446658969221]\n",
            "[0.8151601365709975, 0.7777917803277955]\n",
            "[0.8140204086117491, 0.7901878569831213]\n",
            "[0.8144907628650642, 0.7862279803890612]\n",
            "[0.8145323627359166, 0.7865048424920718]\n",
            "[0.813891538966413, 0.7919458547723354]\n",
            "[0.8148279253893942, 0.7864740928898768]\n",
            "[0.8139827955365557, 0.7931492275231276]\n",
            "[0.8169769727203323, 0.7723632823035208]\n",
            "[0.8155876466426851, 0.7847186376392292]\n"
          ],
          "name": "stdout"
        }
      ]
    },
    {
      "cell_type": "markdown",
      "metadata": {
        "id": "oDx8_L6Tsy89"
      },
      "source": [
        "# Block 3"
      ]
    },
    {
      "cell_type": "code",
      "metadata": {
        "colab": {
          "base_uri": "https://localhost:8080/"
        },
        "id": "5Nj1UYFTeS54",
        "outputId": "70444312-2a3e-4e6b-f624-99b905dd84f9"
      },
      "source": [
        "# Print average and std of R^2 value of different folds\n",
        "\n",
        "# mean and std of training data for the 10 folds\n",
        "print(np.array(r_squared_training).mean())\n",
        "print(np.array(r_squared_training).std())\n",
        "\n",
        "# Seperator \n",
        "print('')\n",
        "\n",
        "# mean and std of testing data for the 10 folds\n",
        "\n",
        "print(np.array(r_squared_testing).mean())\n",
        "print(np.array(r_squared_testing).std())"
      ],
      "execution_count": null,
      "outputs": [
        {
          "output_type": "stream",
          "text": [
            "0.8147851016574542\n",
            "0.0008906182675947974\n",
            "\n",
            "0.7854208221217062\n",
            "0.005979059711133302\n"
          ],
          "name": "stdout"
        }
      ]
    },
    {
      "cell_type": "markdown",
      "metadata": {
        "id": "5INGJ6ZT_OHy"
      },
      "source": [
        "# Block 4"
      ]
    },
    {
      "cell_type": "markdown",
      "metadata": {
        "id": "5UOdXQuX_Rbj"
      },
      "source": [
        "This result tells us that there is a relationship between the duration of an eruption in minutes and the minutes until the next eruption. Our for loop had a large average r^2 value across 10 folds and a small standard deviation. This tells us that we are probably able to predict this relationship. "
      ]
    },
    {
      "cell_type": "code",
      "metadata": {
        "id": "q8Jg-9xE90M7"
      },
      "source": [
        ""
      ],
      "execution_count": null,
      "outputs": []
    }
  ]
}